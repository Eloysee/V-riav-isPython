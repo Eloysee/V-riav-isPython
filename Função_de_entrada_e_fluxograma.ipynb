{
  "nbformat": 4,
  "nbformat_minor": 0,
  "metadata": {
    "colab": {
      "provenance": [],
      "authorship_tag": "ABX9TyNloTQ5FGpadciknA2xXsYk",
      "include_colab_link": true
    },
    "kernelspec": {
      "name": "python3",
      "display_name": "Python 3"
    },
    "language_info": {
      "name": "python"
    }
  },
  "cells": [
    {
      "cell_type": "markdown",
      "metadata": {
        "id": "view-in-github",
        "colab_type": "text"
      },
      "source": [
        "<a href=\"https://colab.research.google.com/github/Eloysee/V-riav-isPython/blob/main/Fun%C3%A7%C3%A3o_de_entrada_e_fluxograma.ipynb\" target=\"_parent\"><img src=\"https://colab.research.google.com/assets/colab-badge.svg\" alt=\"Open In Colab\"/></a>"
      ]
    },
    {
      "cell_type": "code",
      "execution_count": null,
      "metadata": {
        "colab": {
          "base_uri": "https://localhost:8080/"
        },
        "id": "LjuFRoM0cvh2",
        "outputId": "ffd2536f-f6c6-4e54-dc0c-9894796a4918"
      },
      "outputs": [
        {
          "output_type": "stream",
          "name": "stdout",
          "text": [
            "Qual a sua idade?22\n",
            "Qual seu nome?elo\n",
            "Olá, elo você tem 22 anos. Seja bem-Vindo!\n"
          ]
        }
      ],
      "source": [
        "#Função de entrada e fluxo de execução do programa\n",
        "# Input = Comando, instrução, função\n",
        "#ler/pseudocódigo = input/python /// Input('Mensagem')\n",
        "idade = input('Qual a sua idade?')\n",
        "nome = input('Qual seu nome?')\n",
        "print(f'Olá, {nome} você tem {idade} anos. Seja bem-Vindo!')"
      ]
    },
    {
      "cell_type": "code",
      "source": [
        "#Convertendo dados de entrada (casting de variavéis)\n",
        "#int =  Número Inteiro antes do input\n",
        "#float = Número Flutuante antes do input\n",
        "nota = float(input('Qual nota você recebeu na disciplina? '))\n",
        "print(f'Você tirou nota {nota}')"
      ],
      "metadata": {
        "colab": {
          "base_uri": "https://localhost:8080/"
        },
        "id": "Eqw1uHV8eHkF",
        "outputId": "beab98ca-427d-4633-e88d-378efe28939f"
      },
      "execution_count": null,
      "outputs": [
        {
          "output_type": "stream",
          "name": "stdout",
          "text": [
            "Qual nota você recebeu na disciplina? 20\n",
            "Você tirou nota 20.0\n"
          ]
        }
      ]
    },
    {
      "cell_type": "code",
      "source": [
        "#Fluxo de execução do programa (teste de mesa)\n",
        "nota = float(input('Qual nota você recebeu na disciplina? '))\n",
        "print(f'Você tirou a nota {nota}')"
      ],
      "metadata": {
        "colab": {
          "base_uri": "https://localhost:8080/"
        },
        "id": "5U5ikC8KfKLP",
        "outputId": "ccc95278-3232-458b-ea55-77a2641604f7"
      },
      "execution_count": null,
      "outputs": [
        {
          "output_type": "stream",
          "name": "stdout",
          "text": [
            "Qual nota você recebeu na disciplina? 20\n",
            "Você tirou a nota 20.0.\n"
          ]
        }
      ]
    },
    {
      "cell_type": "code",
      "source": [
        "#Fluxograma\n",
        "#crie uma pergunta que solicite 2 números int e faça a soma deles\n",
        "x = int(input('Me informe um número inteiro: '))\n",
        "y = int(input('Me informe outro número inteiro: '))\n",
        "print(f'A soma dos dois números {x} com {y} é {x + y}.') #Ou poderia colocar uma variavel soma e por os x + y"
      ],
      "metadata": {
        "colab": {
          "base_uri": "https://localhost:8080/"
        },
        "id": "Qjgy10FMg2-_",
        "outputId": "e82909b4-ff67-4850-b95f-c1bcfa53eff3"
      },
      "execution_count": 15,
      "outputs": [
        {
          "output_type": "stream",
          "name": "stdout",
          "text": [
            "Me informe um número inteiro: 5\n",
            "Me informe outro número inteiro: 10\n",
            "A soma dos dois números 5 com 10 é 15.\n"
          ]
        }
      ]
    }
  ]
}