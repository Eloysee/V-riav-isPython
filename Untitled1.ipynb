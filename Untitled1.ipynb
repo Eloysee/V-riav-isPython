{
  "nbformat": 4,
  "nbformat_minor": 0,
  "metadata": {
    "colab": {
      "provenance": [],
      "authorship_tag": "ABX9TyO3zJM1vocXJGEUWcMBzKAH",
      "include_colab_link": true
    },
    "kernelspec": {
      "name": "python3",
      "display_name": "Python 3"
    },
    "language_info": {
      "name": "python"
    }
  },
  "cells": [
    {
      "cell_type": "markdown",
      "metadata": {
        "id": "view-in-github",
        "colab_type": "text"
      },
      "source": [
        "<a href=\"https://colab.research.google.com/github/Eloysee/V-riav-isPython/blob/main/Untitled1.ipynb\" target=\"_parent\"><img src=\"https://colab.research.google.com/assets/colab-badge.svg\" alt=\"Open In Colab\"/></a>"
      ]
    },
    {
      "cell_type": "code",
      "execution_count": null,
      "metadata": {
        "colab": {
          "base_uri": "https://localhost:8080/"
        },
        "id": "zmAW8qdoSkTA",
        "outputId": "5020277d-d7de-4193-f7d5-5cd7f232d0a0"
      },
      "outputs": [
        {
          "output_type": "stream",
          "name": "stdout",
          "text": [
            "lógica de programaçãoe algoritmos\n"
          ]
        }
      ],
      "source": [
        "#concatenação\n",
        "s1 = 'lógica de programação'\n",
        "s1 = s1 + 'e algoritmos'\n",
        "print(s1)"
      ]
    },
    {
      "cell_type": "code",
      "source": [
        "#Repetindo strings na concatenação;\n",
        "s1 = \"A\" + \"-\" * 10 + \"B\"\n",
        "print(s1)"
      ],
      "metadata": {
        "colab": {
          "base_uri": "https://localhost:8080/"
        },
        "id": "qCl0tVFDTAwz",
        "outputId": "1529faf8-3632-4764-f14f-47fa2450983b"
      },
      "execution_count": null,
      "outputs": [
        {
          "output_type": "stream",
          "name": "stdout",
          "text": [
            "A----------B\n"
          ]
        }
      ]
    },
    {
      "cell_type": "code",
      "source": [
        "#Composição por marcador de posição\n",
        "# %d ou %i = Números inteiros\n",
        "# %F = Números de ponto flutuante\n",
        "#%s = Strings\n",
        "\n",
        "nota = 8.5\n",
        "s1 = 'Você tirou %f na disciplina de Algoritmo ' % nota\n",
        "print(s1)"
      ],
      "metadata": {
        "colab": {
          "base_uri": "https://localhost:8080/"
        },
        "id": "egi3J-o8TcLH",
        "outputId": "cd15ad00-568b-4d86-e487-687c7fc9a3ac"
      },
      "execution_count": null,
      "outputs": [
        {
          "output_type": "stream",
          "name": "stdout",
          "text": [
            "Você tirou 8.500000 na disciplina de Algoritmo \n"
          ]
        }
      ]
    },
    {
      "cell_type": "code",
      "source": [
        "#Limitando as casas decimais:\n",
        "nota = 8.5\n",
        "s1 = 'Você tirou %.2f na disciplina de Algoritmos ' % nota\n",
        "print(s1)\n"
      ],
      "metadata": {
        "colab": {
          "base_uri": "https://localhost:8080/"
        },
        "id": "az9gtv_ZUXBY",
        "outputId": "37fb319e-b6e5-4587-b2af-dec1625118ad"
      },
      "execution_count": null,
      "outputs": [
        {
          "output_type": "stream",
          "name": "stdout",
          "text": [
            "Você tirou 8.50 na disciplina de Algoritmos \n"
          ]
        }
      ]
    },
    {
      "cell_type": "code",
      "source": [
        "#Várias variavéis:\n",
        "nota = 8.5\n",
        "disciplina ='Algoritmos'\n",
        "s1 = 'Você tirou %.2f na disciplina de %s ' % (nota, disciplina)\n",
        "print(s1)\n"
      ],
      "metadata": {
        "colab": {
          "base_uri": "https://localhost:8080/"
        },
        "id": "al-31swRUvtz",
        "outputId": "683211c4-5612-49d5-adf2-b94423359fcb"
      },
      "execution_count": null,
      "outputs": [
        {
          "output_type": "stream",
          "name": "stdout",
          "text": [
            "Você tirou 8.50 na disciplina de Algoritmos \n"
          ]
        }
      ]
    },
    {
      "cell_type": "code",
      "source": [
        "#Composição moderna:\n",
        "#Na moderna você vai por os {} e apo´s os ' coloca .format(nota, disciplina)\n",
        "nota = 8.5\n",
        "disciplina = 'Algoritmos'\n",
        "s1 = 'Você tirou {} na disciplina de {}' .format(nota, disciplina)\n",
        "print(s1)\n"
      ],
      "metadata": {
        "colab": {
          "base_uri": "https://localhost:8080/"
        },
        "id": "QPDEzqmvVu_N",
        "outputId": "ce94b081-9ccc-4e79-ac6d-b1290f2cf14e"
      },
      "execution_count": null,
      "outputs": [
        {
          "output_type": "stream",
          "name": "stdout",
          "text": [
            "Você tirou 8.5 na disciplina de Algoritmos\n"
          ]
        }
      ]
    },
    {
      "cell_type": "code",
      "source": [
        "#Composição com f-strings\n",
        "#Colocasse um f antes dos ' no fim do texto\n",
        "nota = 8.5\n",
        "disciplina = 'Algoritmos'\n",
        "s1 = f'Você tirou {nota} na disciplina de {disciplina}'\n",
        "print(s1)"
      ],
      "metadata": {
        "colab": {
          "base_uri": "https://localhost:8080/"
        },
        "id": "s8ujFs6wWnkd",
        "outputId": "aa3ec569-065f-415c-ea64-00cd0a24e580"
      },
      "execution_count": null,
      "outputs": [
        {
          "output_type": "stream",
          "name": "stdout",
          "text": [
            "Você tirou 8.5 na disciplina de Algoritmos\n"
          ]
        }
      ]
    },
    {
      "cell_type": "code",
      "source": [
        "#Fatiamento:\n",
        "# Com os [:] Você escolhe qual palavra deseja utilizar, ignorando as outras\n",
        "s1 = 'Lógica de Programação e Algortitmos'\n",
        "print(s1[0:6])\n",
        "\n",
        "s1 = 'Lógica de Programação e Algortitmos'\n",
        "print(s1[24:34])\n",
        "\n",
        "s1 = 'Lógica de Programação e Algortitmos'\n",
        "print(s1[:6])"
      ],
      "metadata": {
        "colab": {
          "base_uri": "https://localhost:8080/"
        },
        "id": "flY5TbCZYAJK",
        "outputId": "72f46fd7-e539-465f-86f5-e930dec1863c"
      },
      "execution_count": null,
      "outputs": [
        {
          "output_type": "stream",
          "name": "stdout",
          "text": [
            "Lógica\n",
            "Algortitmo\n",
            "Lógica\n"
          ]
        }
      ]
    },
    {
      "cell_type": "code",
      "source": [
        " # Tamano (LENGH)\n",
        " # Se utiliza a função len ele mostra o tamanho da frase\n",
        " s1 = 'Lógica de programação e algoritmos'\n",
        " tamanho = len(s1)\n",
        " print(tamanho)"
      ],
      "metadata": {
        "colab": {
          "base_uri": "https://localhost:8080/"
        },
        "id": "Fiu3TSSIakHL",
        "outputId": "9644a447-b5c2-4c16-e5eb-f4f8e52c27b2"
      },
      "execution_count": null,
      "outputs": [
        {
          "output_type": "stream",
          "name": "stdout",
          "text": [
            "34\n"
          ]
        }
      ]
    }
  ]
}